{
 "cells": [
  {
   "cell_type": "code",
   "execution_count": 4,
   "metadata": {},
   "outputs": [],
   "source": [
    "import numpy as np\n",
    "np.bool = bool\n",
    "np.int = int\n",
    "np.float = float\n",
    "np.complex = complex\n",
    "np.object = object\n",
    "np.str = str"
   ]
  },
  {
   "cell_type": "code",
   "execution_count": 18,
   "metadata": {},
   "outputs": [],
   "source": [
    "import pandas as pd\n",
    "from sklearn.model_selection import train_test_split\n",
    "from sklearn.preprocessing import StandardScaler\n",
    "from sklearn.neighbors import KNeighborsClassifier\n",
    "from sklearn.metrics import accuracy_score\n",
    "from sklearn.preprocessing import LabelEncoder, StandardScaler\n",
    "from sklearn.ensemble import RandomForestClassifier\n",
    "from sklearn.metrics import classification_report, confusion_matrix, accuracy_score"
   ]
  },
  {
   "cell_type": "code",
   "execution_count": 10,
   "metadata": {},
   "outputs": [
    {
     "name": "stdout",
     "output_type": "stream",
     "text": [
      "Collecting ucimlrepo\n",
      "  Downloading ucimlrepo-0.0.7-py3-none-any.whl (8.0 kB)\n",
      "Requirement already satisfied: pandas>=1.0.0 in /Users/harikak/opt/anaconda3/lib/python3.8/site-packages (from ucimlrepo) (1.1.3)\n",
      "Collecting certifi>=2020.12.5\n",
      "  Downloading certifi-2025.4.26-py3-none-any.whl (159 kB)\n",
      "\u001b[K     |████████████████████████████████| 159 kB 2.7 MB/s eta 0:00:01\n",
      "\u001b[?25hRequirement already satisfied: pytz>=2017.2 in /Users/harikak/opt/anaconda3/lib/python3.8/site-packages (from pandas>=1.0.0->ucimlrepo) (2020.1)\n",
      "Requirement already satisfied: python-dateutil>=2.7.3 in /Users/harikak/opt/anaconda3/lib/python3.8/site-packages (from pandas>=1.0.0->ucimlrepo) (2.8.1)\n",
      "Requirement already satisfied: numpy>=1.15.4 in /Users/harikak/opt/anaconda3/lib/python3.8/site-packages (from pandas>=1.0.0->ucimlrepo) (1.24.3)\n",
      "Requirement already satisfied: six>=1.5 in /Users/harikak/opt/anaconda3/lib/python3.8/site-packages (from python-dateutil>=2.7.3->pandas>=1.0.0->ucimlrepo) (1.15.0)\n",
      "Installing collected packages: certifi, ucimlrepo\n",
      "  Attempting uninstall: certifi\n",
      "    Found existing installation: certifi 2020.6.20\n",
      "    Uninstalling certifi-2020.6.20:\n",
      "      Successfully uninstalled certifi-2020.6.20\n",
      "Successfully installed certifi-2025.4.26 ucimlrepo-0.0.7\n",
      "Note: you may need to restart the kernel to use updated packages.\n"
     ]
    }
   ],
   "source": [
    "pip install ucimlrepo"
   ]
  },
  {
   "cell_type": "code",
   "execution_count": 6,
   "metadata": {},
   "outputs": [
    {
     "name": "stdout",
     "output_type": "stream",
     "text": [
      "{'uci_id': 17, 'name': 'Breast Cancer Wisconsin (Diagnostic)', 'repository_url': 'https://archive.ics.uci.edu/dataset/17/breast+cancer+wisconsin+diagnostic', 'data_url': 'https://archive.ics.uci.edu/static/public/17/data.csv', 'abstract': 'Diagnostic Wisconsin Breast Cancer Database.', 'area': 'Health and Medicine', 'tasks': ['Classification'], 'characteristics': ['Multivariate'], 'num_instances': 569, 'num_features': 30, 'feature_types': ['Real'], 'demographics': [], 'target_col': ['Diagnosis'], 'index_col': ['ID'], 'has_missing_values': 'no', 'missing_values_symbol': None, 'year_of_dataset_creation': 1993, 'last_updated': 'Fri Nov 03 2023', 'dataset_doi': '10.24432/C5DW2B', 'creators': ['William Wolberg', 'Olvi Mangasarian', 'Nick Street', 'W. Street'], 'intro_paper': {'ID': 230, 'type': 'NATIVE', 'title': 'Nuclear feature extraction for breast tumor diagnosis', 'authors': 'W. Street, W. Wolberg, O. Mangasarian', 'venue': 'Electronic imaging', 'year': 1993, 'journal': None, 'DOI': '10.1117/12.148698', 'URL': 'https://www.semanticscholar.org/paper/53f0fbb425bc14468eb3bf96b2e1d41ba8087f36', 'sha': None, 'corpus': None, 'arxiv': None, 'mag': None, 'acl': None, 'pmid': None, 'pmcid': None}, 'additional_info': {'summary': 'Features are computed from a digitized image of a fine needle aspirate (FNA) of a breast mass.  They describe characteristics of the cell nuclei present in the image. A few of the images can be found at http://www.cs.wisc.edu/~street/images/\\r\\n\\r\\nSeparating plane described above was obtained using Multisurface Method-Tree (MSM-T) [K. P. Bennett, \"Decision Tree Construction Via Linear Programming.\" Proceedings of the 4th Midwest Artificial Intelligence and Cognitive Science Society, pp. 97-101, 1992], a classification method which uses linear programming to construct a decision tree.  Relevant features were selected using an exhaustive search in the space of 1-4 features and 1-3 separating planes.\\r\\n\\r\\nThe actual linear program used to obtain the separating plane in the 3-dimensional space is that described in: [K. P. Bennett and O. L. Mangasarian: \"Robust Linear Programming Discrimination of Two Linearly Inseparable Sets\", Optimization Methods and Software 1, 1992, 23-34].\\r\\n\\r\\nThis database is also available through the UW CS ftp server:\\r\\nftp ftp.cs.wisc.edu\\r\\ncd math-prog/cpo-dataset/machine-learn/WDBC/', 'purpose': None, 'funded_by': None, 'instances_represent': None, 'recommended_data_splits': None, 'sensitive_data': None, 'preprocessing_description': None, 'variable_info': '1) ID number\\r\\n2) Diagnosis (M = malignant, B = benign)\\r\\n3-32)\\r\\n\\r\\nTen real-valued features are computed for each cell nucleus:\\r\\n\\r\\n\\ta) radius (mean of distances from center to points on the perimeter)\\r\\n\\tb) texture (standard deviation of gray-scale values)\\r\\n\\tc) perimeter\\r\\n\\td) area\\r\\n\\te) smoothness (local variation in radius lengths)\\r\\n\\tf) compactness (perimeter^2 / area - 1.0)\\r\\n\\tg) concavity (severity of concave portions of the contour)\\r\\n\\th) concave points (number of concave portions of the contour)\\r\\n\\ti) symmetry \\r\\n\\tj) fractal dimension (\"coastline approximation\" - 1)', 'citation': None}}\n",
      "                  name     role         type demographic description units  \\\n",
      "0                   ID       ID  Categorical        None        None  None   \n",
      "1            Diagnosis   Target  Categorical        None        None  None   \n",
      "2              radius1  Feature   Continuous        None        None  None   \n",
      "3             texture1  Feature   Continuous        None        None  None   \n",
      "4           perimeter1  Feature   Continuous        None        None  None   \n",
      "5                area1  Feature   Continuous        None        None  None   \n",
      "6          smoothness1  Feature   Continuous        None        None  None   \n",
      "7         compactness1  Feature   Continuous        None        None  None   \n",
      "8           concavity1  Feature   Continuous        None        None  None   \n",
      "9      concave_points1  Feature   Continuous        None        None  None   \n",
      "10           symmetry1  Feature   Continuous        None        None  None   \n",
      "11  fractal_dimension1  Feature   Continuous        None        None  None   \n",
      "12             radius2  Feature   Continuous        None        None  None   \n",
      "13            texture2  Feature   Continuous        None        None  None   \n",
      "14          perimeter2  Feature   Continuous        None        None  None   \n",
      "15               area2  Feature   Continuous        None        None  None   \n",
      "16         smoothness2  Feature   Continuous        None        None  None   \n",
      "17        compactness2  Feature   Continuous        None        None  None   \n",
      "18          concavity2  Feature   Continuous        None        None  None   \n",
      "19     concave_points2  Feature   Continuous        None        None  None   \n",
      "20           symmetry2  Feature   Continuous        None        None  None   \n",
      "21  fractal_dimension2  Feature   Continuous        None        None  None   \n",
      "22             radius3  Feature   Continuous        None        None  None   \n",
      "23            texture3  Feature   Continuous        None        None  None   \n",
      "24          perimeter3  Feature   Continuous        None        None  None   \n",
      "25               area3  Feature   Continuous        None        None  None   \n",
      "26         smoothness3  Feature   Continuous        None        None  None   \n",
      "27        compactness3  Feature   Continuous        None        None  None   \n",
      "28          concavity3  Feature   Continuous        None        None  None   \n",
      "29     concave_points3  Feature   Continuous        None        None  None   \n",
      "30           symmetry3  Feature   Continuous        None        None  None   \n",
      "31  fractal_dimension3  Feature   Continuous        None        None  None   \n",
      "\n",
      "   missing_values  \n",
      "0              no  \n",
      "1              no  \n",
      "2              no  \n",
      "3              no  \n",
      "4              no  \n",
      "5              no  \n",
      "6              no  \n",
      "7              no  \n",
      "8              no  \n",
      "9              no  \n",
      "10             no  \n",
      "11             no  \n",
      "12             no  \n",
      "13             no  \n",
      "14             no  \n",
      "15             no  \n",
      "16             no  \n",
      "17             no  \n",
      "18             no  \n",
      "19             no  \n",
      "20             no  \n",
      "21             no  \n",
      "22             no  \n",
      "23             no  \n",
      "24             no  \n",
      "25             no  \n",
      "26             no  \n",
      "27             no  \n",
      "28             no  \n",
      "29             no  \n",
      "30             no  \n",
      "31             no  \n"
     ]
    }
   ],
   "source": [
    "from ucimlrepo import fetch_ucirepo \n",
    "# fetch dataset \n",
    "breast_cancer_wisconsin_diagnostic = fetch_ucirepo(id=17) \n",
    "# data (as pandas dataframes) \n",
    "x = breast_cancer_wisconsin_diagnostic.data.features \n",
    "y = breast_cancer_wisconsin_diagnostic.data.targets \n",
    "# metadata \n",
    "print(breast_cancer_wisconsin_diagnostic.metadata) \n",
    "# variable information \n",
    "print(breast_cancer_wisconsin_diagnostic.variables) "
   ]
  },
  {
   "cell_type": "code",
   "execution_count": 7,
   "metadata": {},
   "outputs": [
    {
     "name": "stdout",
     "output_type": "stream",
     "text": [
      "    radius1  texture1  perimeter1   area1  smoothness1  compactness1  \\\n",
      "0    17.990     10.38      122.80  1001.0      0.11840       0.27760   \n",
      "1    20.570     17.77      132.90  1326.0      0.08474       0.07864   \n",
      "2    19.690     21.25      130.00  1203.0      0.10960       0.15990   \n",
      "3    11.420     20.38       77.58   386.1      0.14250       0.28390   \n",
      "4    20.290     14.34      135.10  1297.0      0.10030       0.13280   \n",
      "..      ...       ...         ...     ...          ...           ...   \n",
      "95   20.260     23.03      132.40  1264.0      0.09078       0.13130   \n",
      "96   12.180     17.84       77.79   451.1      0.10450       0.07057   \n",
      "97    9.787     19.94       62.11   294.5      0.10240       0.05301   \n",
      "98   11.600     12.84       74.34   412.6      0.08983       0.07525   \n",
      "99   14.420     19.77       94.48   642.5      0.09752       0.11410   \n",
      "\n",
      "    concavity1  concave_points1  symmetry1  fractal_dimension1  ...  texture3  \\\n",
      "0     0.300100         0.147100     0.2419             0.07871  ...     17.33   \n",
      "1     0.086900         0.070170     0.1812             0.05667  ...     23.41   \n",
      "2     0.197400         0.127900     0.2069             0.05999  ...     25.53   \n",
      "3     0.241400         0.105200     0.2597             0.09744  ...     26.50   \n",
      "4     0.198000         0.104300     0.1809             0.05883  ...     16.67   \n",
      "..         ...              ...        ...                 ...  ...       ...   \n",
      "95    0.146500         0.086830     0.2095             0.05649  ...     31.59   \n",
      "96    0.024900         0.029410     0.1900             0.06635  ...     20.92   \n",
      "97    0.006829         0.007937     0.1350             0.06890  ...     26.29   \n",
      "98    0.041960         0.033500     0.1620             0.06582  ...     17.16   \n",
      "99    0.093880         0.058390     0.1879             0.06390  ...     30.86   \n",
      "\n",
      "    perimeter3   area3  smoothness3  compactness3  concavity3  \\\n",
      "0       184.60  2019.0       0.1622       0.66560     0.71190   \n",
      "1       158.80  1956.0       0.1238       0.18660     0.24160   \n",
      "2       152.50  1709.0       0.1444       0.42450     0.45040   \n",
      "3        98.87   567.7       0.2098       0.86630     0.68690   \n",
      "4       152.20  1575.0       0.1374       0.20500     0.40000   \n",
      "..         ...     ...          ...           ...         ...   \n",
      "95      156.10  1750.0       0.1190       0.35390     0.40980   \n",
      "96       82.14   495.2       0.1140       0.09358     0.04980   \n",
      "97       68.81   366.1       0.1316       0.09473     0.02049   \n",
      "98       82.96   512.5       0.1431       0.18510     0.19220   \n",
      "99      109.50   826.4       0.1431       0.30260     0.31940   \n",
      "\n",
      "    concave_points3  symmetry3  fractal_dimension3  Diagnosis  \n",
      "0           0.26540     0.4601             0.11890          M  \n",
      "1           0.18600     0.2750             0.08902          M  \n",
      "2           0.24300     0.3613             0.08758          M  \n",
      "3           0.25750     0.6638             0.17300          M  \n",
      "4           0.16250     0.2364             0.07678          M  \n",
      "..              ...        ...                 ...        ...  \n",
      "95          0.15730     0.3689             0.08368          M  \n",
      "96          0.05882     0.2227             0.07376          B  \n",
      "97          0.02381     0.1934             0.08988          B  \n",
      "98          0.08449     0.2772             0.08756          B  \n",
      "99          0.15650     0.2718             0.09353          M  \n",
      "\n",
      "[100 rows x 31 columns]\n"
     ]
    }
   ],
   "source": [
    "data = pd.concat([x, y], axis=1)\n",
    "print(data.head(100))"
   ]
  },
  {
   "cell_type": "code",
   "execution_count": 8,
   "metadata": {},
   "outputs": [],
   "source": [
    "# Step 1: Load the dataset\n",
    "data = fetch_ucirepo(id=17)#the id=17 refers to the unique dataset ID in the UCI Machine Learning Repository catalog used by the ucimlrepo Python package.\n",
    "X = data.data.features\n",
    "y = data.data.targets['Diagnosis']  # Target column"
   ]
  },
  {
   "cell_type": "code",
   "execution_count": 9,
   "metadata": {},
   "outputs": [],
   "source": [
    "# Step 2: Encode labels (M/B -> 1/0)\n",
    "le = LabelEncoder()\n",
    "y = le.fit_transform(y)  # M=1, B=0"
   ]
  },
  {
   "cell_type": "code",
   "execution_count": 33,
   "metadata": {},
   "outputs": [],
   "source": [
    "# Step 3: Train/Test Split\n",
    "x_train, x_test, y_train, y_test = train_test_split(x, y, test_size=0.30, random_state=42)"
   ]
  },
  {
   "cell_type": "code",
   "execution_count": 34,
   "metadata": {},
   "outputs": [],
   "source": [
    "# Step 4: Feature Scaling\n",
    "scaler = StandardScaler()\n",
    "x_train_scaled = scaler.fit_transform(x_train)\n",
    "x_test_scaled = scaler.transform(x_test)"
   ]
  },
  {
   "cell_type": "code",
   "execution_count": 35,
   "metadata": {},
   "outputs": [
    {
     "data": {
      "text/plain": [
       "RandomForestClassifier(random_state=42)"
      ]
     },
     "execution_count": 35,
     "metadata": {},
     "output_type": "execute_result"
    }
   ],
   "source": [
    "# Step 5: Train Model (Random Forest)\n",
    "model = RandomForestClassifier(random_state=42)\n",
    "model.fit(x_train_scaled, y_train)"
   ]
  },
  {
   "cell_type": "code",
   "execution_count": 36,
   "metadata": {},
   "outputs": [],
   "source": [
    "# Step 6: Make Predictions\n",
    "y_pred = model.predict(x_test_scaled)"
   ]
  },
  {
   "cell_type": "code",
   "execution_count": 37,
   "metadata": {},
   "outputs": [
    {
     "name": "stdout",
     "output_type": "stream",
     "text": [
      "[[107   1]\n",
      " [  4  59]]\n"
     ]
    }
   ],
   "source": [
    "from sklearn.metrics import confusion_matrix\n",
    "\n",
    "cm = confusion_matrix(y_test, y_pred)\n",
    "print(cm)\n"
   ]
  },
  {
   "cell_type": "code",
   "execution_count": 38,
   "metadata": {},
   "outputs": [
    {
     "name": "stdout",
     "output_type": "stream",
     "text": [
      "0.9707602339181286\n"
     ]
    }
   ],
   "source": [
    "score = accuracy_score(y_test, y_pred)\n",
    "all_sample_title = \"Accuracy Score: {:.2f}\".format(score)\n",
    "print(score)"
   ]
  },
  {
   "cell_type": "code",
   "execution_count": 39,
   "metadata": {},
   "outputs": [
    {
     "data": {
      "image/png": "[encoded data removed]",
      "text/plain": [
       "<Figure size 432x288 with 2 Axes>"
      ]
     },
     "metadata": {
      "needs_background": "light"
     },
     "output_type": "display_data"
    }
   ],
   "source": [
    "import seaborn as sns\n",
    "import matplotlib.pyplot as plt\n",
    "\n",
    "sns.heatmap(cm, annot=True, fmt='d', cmap='pink')\n",
    "plt.ylabel(\"Actual Label\")\n",
    "plt.xlabel(\"Predicted Label\")\n",
    "plt.title(\"Confusion Matrix\\n\" + all_sample_title, size=15)\n",
    "plt.show()"
   ]
  },
  {
   "cell_type": "code",
   "execution_count": 43,
   "metadata": {},
   "outputs": [
    {
     "data": {
      "text/plain": [
       "KNeighborsClassifier(n_neighbors=3)"
      ]
     },
     "execution_count": 43,
     "metadata": {},
     "output_type": "execute_result"
    }
   ],
   "source": [
    "knn = KNeighborsClassifier(n_neighbors=3)  # you can tune k later\n",
    "knn.fit(x_train_scaled, y_train)"
   ]
  },
  {
   "cell_type": "code",
   "execution_count": 44,
   "metadata": {},
   "outputs": [],
   "source": [
    "# Step 6: Predict\n",
    "y_pred = knn.predict(x_test_scaled)"
   ]
  },
  {
   "cell_type": "code",
   "execution_count": 45,
   "metadata": {},
   "outputs": [
    {
     "name": "stdout",
     "output_type": "stream",
     "text": [
      "Accuracy: 0.9590643274853801\n",
      "Classification Report:\n",
      "               precision    recall  f1-score   support\n",
      "\n",
      "           0       0.96      0.97      0.97       108\n",
      "           1       0.95      0.94      0.94        63\n",
      "\n",
      "    accuracy                           0.96       171\n",
      "   macro avg       0.96      0.95      0.96       171\n",
      "weighted avg       0.96      0.96      0.96       171\n",
      "\n"
     ]
    }
   ],
   "source": [
    "# Step 7: Evaluate\n",
    "print(\"Accuracy:\", accuracy_score(y_test, y_pred))\n",
    "print(\"Classification Report:\\n\", classification_report(y_test, y_pred))\n"
   ]
  },
  {
   "cell_type": "code",
   "execution_count": 46,
   "metadata": {},
   "outputs": [
    {
     "data": {
      "image/png": "[encoded data removed]",
      "text/plain": [
       "<Figure size 432x288 with 2 Axes>"
      ]
     },
     "metadata": {
      "needs_background": "light"
     },
     "output_type": "display_data"
    }
   ],
   "source": [
    "# Step 8: Confusion Matrix\n",
    "cm = confusion_matrix(y_test, y_pred)\n",
    "sns.heatmap(cm, annot=True, fmt='d', cmap='Greens')\n",
    "plt.xlabel(\"Predicted Label\")\n",
    "plt.ylabel(\"Actual Label\")\n",
    "plt.title(\"KNN Confusion Matrix\\nAccuracy: {:.2f}\".format(accuracy_score(y_test, y_pred)))\n",
    "plt.show()"
   ]
  },
  {
   "cell_type": "code",
   "execution_count": 47,
   "metadata": {},
   "outputs": [
    {
     "name": "stdout",
     "output_type": "stream",
     "text": [
      "Random Forest Cross-Validation Accuracy Scores: [0.92105263 0.93859649 0.98245614 0.96491228 0.96460177]\n",
      "Random Forest Average CV Accuracy: 0.9543\n",
      "\n",
      "K-Nearest Neighbors Cross-Validation Accuracy Scores: [0.96491228 0.95614035 0.98245614 0.95614035 0.96460177]\n",
      "K-Nearest Neighbors Average CV Accuracy: 0.9649\n",
      "\n"
     ]
    }
   ],
   "source": [
    "from sklearn.model_selection import cross_val_score\n",
    "from sklearn.ensemble import RandomForestClassifier\n",
    "\n",
    "# Cross-validation function\n",
    "def cross_validate_model(model, X, y, model_name, cv=5):\n",
    "    scores = cross_val_score(model, X, y, cv=cv, scoring='accuracy')\n",
    "    print(f\"{model_name} Cross-Validation Accuracy Scores: {scores}\")\n",
    "    print(f\"{model_name} Average CV Accuracy: {scores.mean():.4f}\\n\")\n",
    "\n",
    "# Cross-validate Random Forest\n",
    "rf_model = RandomForestClassifier(random_state=42)\n",
    "cross_validate_model(rf_model, scaler.fit_transform(X), y, \"Random Forest\")\n",
    "\n",
    "# Cross-validate KNN\n",
    "knn_model = KNeighborsClassifier(n_neighbors=5)\n",
    "cross_validate_model(knn_model, scaler.fit_transform(X), y, \"K-Nearest Neighbors\")\n"
   ]
  }
 ],
 "metadata": {
  "kernelspec": {
   "display_name": "Python 3",
   "language": "python",
   "name": "python3"
  },
  "language_info": {
   "codemirror_mode": {
    "name": "ipython",
    "version": 3
   },
   "file_extension": ".py",
   "mimetype": "text/x-python",
   "name": "python",
   "nbconvert_exporter": "python",
   "pygments_lexer": "ipython3",
   "version": "3.8.5"
  }
 },
 "nbformat": 4,
 "nbformat_minor": 5
}
